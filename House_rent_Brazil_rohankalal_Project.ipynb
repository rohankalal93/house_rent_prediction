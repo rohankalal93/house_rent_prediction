{
 "cells": [
  {
   "cell_type": "code",
   "execution_count": 4,
   "metadata": {},
   "outputs": [],
   "source": [
    "import pandas as pd\n",
    "import seaborn as sns\n",
    "import matplotlib.pyplot as plt\n",
    "from sklearn.linear_model import LinearRegression\n",
    "from sklearn.preprocessing import LabelEncoder\n",
    "from sklearn.model_selection import train_test_split\n",
    "from sklearn.metrics import r2_score\n",
    "from sklearn.preprocessing import StandardScaler\n",
    "from sklearn.linear_model import LogisticRegression\n",
    "from sklearn.metrics import accuracy_score"
   ]
  },
  {
   "cell_type": "code",
   "execution_count": 5,
   "metadata": {},
   "outputs": [],
   "source": [
    "#1"
   ]
  },
  {
   "cell_type": "code",
   "execution_count": 6,
   "metadata": {},
   "outputs": [],
   "source": [
    "df = pd.read_csv('11-1-Dataset-Predicting House Rent.csv')"
   ]
  },
  {
   "cell_type": "code",
   "execution_count": 7,
   "metadata": {},
   "outputs": [
    {
     "name": "stdout",
     "output_type": "stream",
     "text": [
      "           city  area  rooms  bathroom  parking spaces floor     animal  \\\n",
      "0     São Paulo    70      2         1               1     7      acept   \n",
      "1     São Paulo   320      4         4               0    20      acept   \n",
      "2  Porto Alegre    80      1         1               1     6      acept   \n",
      "3  Porto Alegre    51      2         1               0     2      acept   \n",
      "4     São Paulo    25      1         1               0     1  not acept   \n",
      "\n",
      "       furniture  hoa (R$)  rent amount (R$)  property tax (R$)  \\\n",
      "0      furnished      2065              3300                211   \n",
      "1  not furnished      1200              4960               1750   \n",
      "2  not furnished      1000              2800                  0   \n",
      "3  not furnished       270              1112                 22   \n",
      "4  not furnished         0               800                 25   \n",
      "\n",
      "   fire insurance (R$)  total (R$)  \n",
      "0                   42        5618  \n",
      "1                   63        7973  \n",
      "2                   41        3841  \n",
      "3                   17        1421  \n",
      "4                   11         836  \n"
     ]
    }
   ],
   "source": [
    "print(df.head())"
   ]
  },
  {
   "cell_type": "code",
   "execution_count": 8,
   "metadata": {},
   "outputs": [
    {
     "name": "stdout",
     "output_type": "stream",
     "text": [
      "(10692, 13)\n"
     ]
    }
   ],
   "source": [
    "print(df.shape)"
   ]
  },
  {
   "cell_type": "code",
   "execution_count": 9,
   "metadata": {},
   "outputs": [
    {
     "name": "stdout",
     "output_type": "stream",
     "text": [
      "               area         rooms      bathroom  parking spaces      hoa (R$)  \\\n",
      "count  10692.000000  10692.000000  10692.000000    10692.000000  1.069200e+04   \n",
      "mean     149.217920      2.506079      2.236813        1.609147  1.174022e+03   \n",
      "std      537.016942      1.171266      1.407198        1.589521  1.559231e+04   \n",
      "min       11.000000      1.000000      1.000000        0.000000  0.000000e+00   \n",
      "25%       56.000000      2.000000      1.000000        0.000000  1.700000e+02   \n",
      "50%       90.000000      2.000000      2.000000        1.000000  5.600000e+02   \n",
      "75%      182.000000      3.000000      3.000000        2.000000  1.237500e+03   \n",
      "max    46335.000000     13.000000     10.000000       12.000000  1.117000e+06   \n",
      "\n",
      "       rent amount (R$)  property tax (R$)  fire insurance (R$)    total (R$)  \n",
      "count      10692.000000       10692.000000         10692.000000  1.069200e+04  \n",
      "mean        3896.247194         366.704358            53.300879  5.490487e+03  \n",
      "std         3408.545518        3107.832321            47.768031  1.648473e+04  \n",
      "min          450.000000           0.000000             3.000000  4.990000e+02  \n",
      "25%         1530.000000          38.000000            21.000000  2.061750e+03  \n",
      "50%         2661.000000         125.000000            36.000000  3.581500e+03  \n",
      "75%         5000.000000         375.000000            68.000000  6.768000e+03  \n",
      "max        45000.000000      313700.000000           677.000000  1.120000e+06  \n"
     ]
    }
   ],
   "source": [
    "print(df.describe())"
   ]
  },
  {
   "cell_type": "code",
   "execution_count": 10,
   "metadata": {},
   "outputs": [],
   "source": [
    "#2"
   ]
  },
  {
   "cell_type": "code",
   "execution_count": 11,
   "metadata": {},
   "outputs": [
    {
     "name": "stdout",
     "output_type": "stream",
     "text": [
      "city                   0\n",
      "area                   0\n",
      "rooms                  0\n",
      "bathroom               0\n",
      "parking spaces         0\n",
      "floor                  0\n",
      "animal                 0\n",
      "furniture              0\n",
      "hoa (R$)               0\n",
      "rent amount (R$)       0\n",
      "property tax (R$)      0\n",
      "fire insurance (R$)    0\n",
      "total (R$)             0\n",
      "dtype: int64\n"
     ]
    }
   ],
   "source": [
    "print(df.isnull().sum())"
   ]
  },
  {
   "cell_type": "code",
   "execution_count": 12,
   "metadata": {},
   "outputs": [],
   "source": [
    "df = df.drop(['bathroom', 'floor', 'animal', 'hoa (R$)', 'property tax (R$)', 'fire insurance (R$)'], axis=1)"
   ]
  },
  {
   "cell_type": "code",
   "execution_count": 13,
   "metadata": {},
   "outputs": [
    {
     "name": "stdout",
     "output_type": "stream",
     "text": [
      "           city  area  rooms  parking spaces      furniture  rent amount (R$)  \\\n",
      "0     São Paulo    70      2               1      furnished              3300   \n",
      "1     São Paulo   320      4               0  not furnished              4960   \n",
      "2  Porto Alegre    80      1               1  not furnished              2800   \n",
      "3  Porto Alegre    51      2               0  not furnished              1112   \n",
      "4     São Paulo    25      1               0  not furnished               800   \n",
      "\n",
      "   total (R$)  \n",
      "0        5618  \n",
      "1        7973  \n",
      "2        3841  \n",
      "3        1421  \n",
      "4         836  \n"
     ]
    }
   ],
   "source": [
    "print(df.head())"
   ]
  },
  {
   "cell_type": "code",
   "execution_count": 14,
   "metadata": {},
   "outputs": [],
   "source": [
    "le = LabelEncoder()"
   ]
  },
  {
   "cell_type": "code",
   "execution_count": 15,
   "metadata": {},
   "outputs": [
    {
     "name": "stdout",
     "output_type": "stream",
     "text": [
      "   city  area  rooms  parking spaces  furniture  rent amount (R$)  total (R$)\n",
      "0     4    70      2               1          0              3300        5618\n",
      "1     4   320      4               0          1              4960        7973\n",
      "2     2    80      1               1          1              2800        3841\n",
      "3     2    51      2               0          1              1112        1421\n",
      "4     4    25      1               0          1               800         836\n"
     ]
    }
   ],
   "source": [
    "n1 = ['city']\n",
    "for i in n1:\n",
    "    df[i] = le.fit_transform(df[i])\n",
    "n1 = ['furniture']\n",
    "for i in n1:\n",
    "    df[i] = le.fit_transform(df[i])\n",
    "print(df.head())"
   ]
  },
  {
   "cell_type": "code",
   "execution_count": 16,
   "metadata": {},
   "outputs": [],
   "source": [
    "#3"
   ]
  },
  {
   "cell_type": "code",
   "execution_count": 17,
   "metadata": {},
   "outputs": [
    {
     "data": {
      "image/png": "[encoded data removed]",
      "text/plain": [
       "<Figure size 432x288 with 1 Axes>"
      ]
     },
     "metadata": {
      "needs_background": "light"
     },
     "output_type": "display_data"
    },
    {
     "data": {
      "image/png": "[encoded data removed]",
      "text/plain": [
       "<Figure size 432x288 with 1 Axes>"
      ]
     },
     "metadata": {
      "needs_background": "light"
     },
     "output_type": "display_data"
    },
    {
     "data": {
      "image/png": "[encoded data removed]",
      "text/plain": [
       "<Figure size 432x288 with 1 Axes>"
      ]
     },
     "metadata": {
      "needs_background": "light"
     },
     "output_type": "display_data"
    },
    {
     "data": {
      "image/png": "[encoded data removed]",
      "text/plain": [
       "<Figure size 432x288 with 1 Axes>"
      ]
     },
     "metadata": {
      "needs_background": "light"
     },
     "output_type": "display_data"
    }
   ],
   "source": [
    "sns.barplot(x='city', y='area', data=df)\n",
    "plt.show()\n",
    "sns.boxplot(x='city', y='area', data=df)\n",
    "plt.show()\n",
    "sns.boxplot(x='rooms', y='rent amount (R$)', data=df)\n",
    "plt.show()\n",
    "sns.countplot(x='city', data=df)\n",
    "plt.show()"
   ]
  },
  {
   "cell_type": "code",
   "execution_count": 18,
   "metadata": {},
   "outputs": [],
   "source": [
    "#4"
   ]
  },
  {
   "cell_type": "code",
   "execution_count": 19,
   "metadata": {},
   "outputs": [
    {
     "name": "stdout",
     "output_type": "stream",
     "text": [
      "   city  area  rooms  parking spaces\n",
      "0     4    70      2               1\n",
      "1     4   320      4               0\n",
      "2     2    80      1               1\n",
      "3     2    51      2               0\n",
      "4     4    25      1               0\n",
      "0    5618\n",
      "1    7973\n",
      "2    3841\n",
      "3    1421\n",
      "4     836\n",
      "Name: total (R$), dtype: int64\n"
     ]
    }
   ],
   "source": [
    "X = df.drop([\"total (R$)\", \"furniture\", \"rent amount (R$)\"], axis=1)\n",
    "Y = df['total (R$)']\n",
    "print(X.head())\n",
    "print(Y.head())"
   ]
  },
  {
   "cell_type": "code",
   "execution_count": 20,
   "metadata": {},
   "outputs": [
    {
     "name": "stdout",
     "output_type": "stream",
     "text": [
      "       city  area  rooms  parking spaces\n",
      "10247     3    75      2               0\n",
      "10320     4   185      3               2\n",
      "9715      3    56      2               0\n",
      "6986      4    49      2               1\n",
      "145       0    50      2               1\n",
      "...     ...   ...    ...             ...\n",
      "684       4   207      3               4\n",
      "5317      4   220      4               3\n",
      "2369      4    54      2               1\n",
      "7642      4    53      2               1\n",
      "232       4    40      1               0\n",
      "\n",
      "[8553 rows x 4 columns]\n"
     ]
    }
   ],
   "source": [
    "X_train, X_test, Y_train, Y_test = train_test_split(X, Y, test_size=0.2, random_state=112)\n",
    "print(X_train)"
   ]
  },
  {
   "cell_type": "code",
   "execution_count": 21,
   "metadata": {},
   "outputs": [],
   "source": [
    "#5_linear Regression"
   ]
  },
  {
   "cell_type": "code",
   "execution_count": 22,
   "metadata": {},
   "outputs": [],
   "source": [
    "my_model = LinearRegression()"
   ]
  },
  {
   "cell_type": "code",
   "execution_count": 23,
   "metadata": {},
   "outputs": [],
   "source": [
    "result = my_model.fit(X_train, Y_train)"
   ]
  },
  {
   "cell_type": "code",
   "execution_count": 24,
   "metadata": {},
   "outputs": [],
   "source": [
    "predictions = result.predict(X_test)"
   ]
  },
  {
   "cell_type": "code",
   "execution_count": 25,
   "metadata": {},
   "outputs": [
    {
     "name": "stdout",
     "output_type": "stream",
     "text": [
      "[4034.48911396 5799.06882605 8683.30864813 ... 2622.01213476 8833.72761048\n",
      " 5731.44103604]\n"
     ]
    }
   ],
   "source": [
    "print(predictions)"
   ]
  },
  {
   "cell_type": "code",
   "execution_count": 26,
   "metadata": {},
   "outputs": [
    {
     "name": "stdout",
     "output_type": "stream",
     "text": [
      "Accuracy of Linear regression :=  0.10038595196670352\n"
     ]
    }
   ],
   "source": [
    "print('Accuracy of Linear regression := ', r2_score(Y_test, predictions))"
   ]
  },
  {
   "cell_type": "code",
   "execution_count": 48,
   "metadata": {},
   "outputs": [
    {
     "data": {
      "image/png": "[encoded data removed]",
      "text/plain": [
       "<Figure size 432x288 with 1 Axes>"
      ]
     },
     "metadata": {
      "needs_background": "light"
     },
     "output_type": "display_data"
    }
   ],
   "source": [
    "plt.scatter(Y_test, predictions, color='c')\n",
    "plt.plot(X_test, predictions, color='k')\n",
    "plt.show()"
   ]
  },
  {
   "cell_type": "code",
   "execution_count": 28,
   "metadata": {},
   "outputs": [
    {
     "name": "stdout",
     "output_type": "stream",
     "text": [
      "[4672.63886885]\n"
     ]
    }
   ],
   "source": [
    "pred_new = result.predict([[4, 52, 2, 1]])\n",
    "print(pred_new)"
   ]
  },
  {
   "cell_type": "code",
   "execution_count": 61,
   "metadata": {},
   "outputs": [],
   "source": [
    "#Logistic_Regression"
   ]
  },
  {
   "cell_type": "code",
   "execution_count": 62,
   "metadata": {},
   "outputs": [],
   "source": [
    "X_train, X_test, Y_train, Y_test = train_test_split(X, Y, test_size=0.2, random_state=156)"
   ]
  },
  {
   "cell_type": "code",
   "execution_count": 63,
   "metadata": {},
   "outputs": [],
   "source": [
    "sc = StandardScaler()"
   ]
  },
  {
   "cell_type": "code",
   "execution_count": 64,
   "metadata": {},
   "outputs": [],
   "source": [
    "X_train = sc.fit_transform(X_train)\n",
    "X_test = sc.transform(X_test)"
   ]
  },
  {
   "cell_type": "code",
   "execution_count": 65,
   "metadata": {},
   "outputs": [],
   "source": [
    "my_model1 = LogisticRegression()"
   ]
  },
  {
   "cell_type": "code",
   "execution_count": null,
   "metadata": {},
   "outputs": [],
   "source": [
    "result1 = my_model1.fit(X_train, Y_train)"
   ]
  },
  {
   "cell_type": "code",
   "execution_count": null,
   "metadata": {},
   "outputs": [],
   "source": [
    "predictions1 = result1.predict(X_test)"
   ]
  },
  {
   "cell_type": "code",
   "execution_count": null,
   "metadata": {},
   "outputs": [],
   "source": [
    "print(predictions1)\n",
    "print(\"Accuracy of Logistic Regression:\", accuracy_score(Y_test, predictions1))"
   ]
  },
  {
   "cell_type": "code",
   "execution_count": null,
   "metadata": {},
   "outputs": [],
   "source": [
    "pred_new1 = result1.predict([[4, 52, 2, 1]])\n",
    "print(pred_new1)"
   ]
  },
  {
   "cell_type": "code",
   "execution_count": null,
   "metadata": {},
   "outputs": [],
   "source": [
    "print('By Obseving Accuracy of both model we conclude that Linear Model gives the maximum accuracy.'\n",
    "      'So Linear model will be the best model for our Preticting House Rent Project')"
   ]
  },
  {
   "cell_type": "code",
   "execution_count": null,
   "metadata": {},
   "outputs": [],
   "source": []
  },
  {
   "cell_type": "code",
   "execution_count": null,
   "metadata": {},
   "outputs": [],
   "source": []
  },
  {
   "cell_type": "code",
   "execution_count": null,
   "metadata": {},
   "outputs": [],
   "source": []
  }
 ],
 "metadata": {
  "kernelspec": {
   "display_name": "Python 3",
   "language": "python",
   "name": "python3"
  },
  "language_info": {
   "codemirror_mode": {
    "name": "ipython",
    "version": 3
   },
   "file_extension": ".py",
   "mimetype": "text/x-python",
   "name": "python",
   "nbconvert_exporter": "python",
   "pygments_lexer": "ipython3",
   "version": "3.7.6"
  }
 },
 "nbformat": 4,
 "nbformat_minor": 4
}
